{
  "nbformat": 4,
  "nbformat_minor": 0,
  "metadata": {
    "colab": {
      "name": "VGGnet 16.ipynb",
      "provenance": [],
      "collapsed_sections": []
    },
    "kernelspec": {
      "name": "python3",
      "display_name": "Python 3"
    },
    "accelerator": "GPU"
  },
  "cells": [
    {
      "cell_type": "code",
      "metadata": {
        "id": "K3WgPZgo9a5W",
        "colab_type": "code",
        "colab": {}
      },
      "source": [
        "# train_image = ('/content/drive/My Drive/train-images-idx3-ubyte.gz')\n",
        "# train_label = ('/content/drive/My Drive/train-labels-idx1-ubyte.gz')\n",
        "# test_image = ('/content/drive/My Drive/t10k-images-idx3-ubyte.gz')\n",
        "# test_label = ('/content/drive/My Drive/t10k-labels-idx1-ubyte.gz')"
      ],
      "execution_count": 0,
      "outputs": []
    },
    {
      "cell_type": "code",
      "metadata": {
        "id": "00Sra1hf_vCW",
        "colab_type": "code",
        "colab": {}
      },
      "source": [
        "from __future__ import absolute_import\n",
        "from __future__ import division\n",
        "from __future__ import print_function\n",
        "\n",
        "# Imports\n",
        "import numpy as np\n",
        "import keras\n",
        "import matplotlib.pyplot as plt\n",
        "\n",
        "from keras.models import Sequential\n",
        "from keras.layers import Dense, Conv2D, MaxPooling2D , Flatten, BatchNormalization\n",
        "from keras import backend as K\n",
        "from keras.datasets import mnist"
      ],
      "execution_count": 0,
      "outputs": []
    },
    {
      "cell_type": "code",
      "metadata": {
        "id": "rsI-kyXX_zd-",
        "colab_type": "code",
        "colab": {
          "base_uri": "https://localhost:8080/",
          "height": 69
        },
        "outputId": "3fb1d355-4ea3-4d36-c51a-46166ce2aaf7"
      },
      "source": [
        "# Training parameters\n",
        "batch_size, num_classes, epochs = 128, 10, 20\n",
        "img_rows, img_cols = 28, 28\n",
        "\n",
        "# Load the MNIST data.\n",
        "(x_train, y_train), (x_test, y_test) = mnist.load_data()\n",
        "\n",
        "\n",
        "if K.image_data_format() == 'channels_first':\n",
        "  x_train = x_train.reshape(x_train.shape[0], 1, img_rows, img_cols)\n",
        "  x_test = x_test.reshape(x_test.shape[0], 1, img_rows, img_cols)\n",
        "  input_shape = (1, img_rows, img_cols)\n",
        "else:\n",
        "  x_train = x_train.reshape(x_train.shape[0], img_rows, img_cols, 1)\n",
        "  x_test = x_test.reshape(x_test.shape[0], img_rows, img_cols, 1)\n",
        "  input_shape = (img_rows, img_cols, 1)  \n",
        "\n",
        "# Normalize data.\n",
        "x_train = x_train.astype('float32') / 255\n",
        "x_test = x_test.astype('float32') / 255\n",
        "\n",
        "print('x_train shape is:',x_train.shape)\n",
        "print('train sample size is:',x_train.shape[0])\n",
        "print('test sample size is:',x_test.shape[0])\n",
        "\n",
        "# convert class vectors to binary class matrices\n",
        "y_train = keras.utils.to_categorical(y_train, num_classes)\n",
        "y_test = keras.utils.to_categorical(y_test, num_classes)"
      ],
      "execution_count": 12,
      "outputs": [
        {
          "output_type": "stream",
          "text": [
            "x_train shape is: (60000, 28, 28, 1)\n",
            "train sample size is: 60000\n",
            "test sample size is: 10000\n"
          ],
          "name": "stdout"
        }
      ]
    },
    {
      "cell_type": "code",
      "metadata": {
        "id": "6wfXtKjG__Wl",
        "colab_type": "code",
        "colab": {
          "base_uri": "https://localhost:8080/",
          "height": 1000
        },
        "outputId": "04c62c46-8347-4672-a1a7-67c848ed4d82"
      },
      "source": [
        "model = Sequential()\n",
        "model.add(Conv2D(64, kernel_size=(3, 3), activation='relu',padding='same', kernel_initializer= keras.initializers.glorot_normal(seed=0),input_shape=input_shape))\n",
        "model.add(BatchNormalization(axis=-1))\n",
        "\n",
        "model.add(Conv2D(64, kernel_size=(3, 3), activation='relu',kernel_initializer= keras.initializers.glorot_normal(seed=0), padding='same'))\n",
        "model.add(BatchNormalization(axis=-1))\n",
        "model.add(MaxPooling2D(pool_size=(2, 2), strides=2,padding='same'))\n",
        "\n",
        "model.add(Conv2D(128, kernel_size=(3, 3), activation='relu',kernel_initializer= keras.initializers.glorot_normal(seed=0), padding='same'))\n",
        "model.add(BatchNormalization(axis=-1))\n",
        "\n",
        "model.add(Conv2D(128, kernel_size=(3, 3), activation='relu',kernel_initializer= keras.initializers.glorot_normal(seed=0), padding='same'))\n",
        "model.add(BatchNormalization(axis=-1))\n",
        "model.add(MaxPooling2D(pool_size=(2, 2),  strides=2,padding='same'))\n",
        "\n",
        "model.add(Conv2D(256, kernel_size=(3, 3), activation='relu',kernel_initializer= keras.initializers.glorot_normal(seed=0), padding='same'))\n",
        "model.add(BatchNormalization(axis=-1))\n",
        "\n",
        "model.add(Conv2D(256, kernel_size=(3, 3), activation='relu',kernel_initializer= keras.initializers.glorot_normal(seed=0), padding='same'))\n",
        "model.add(BatchNormalization(axis=-1))\n",
        "\n",
        "model.add(Conv2D(256, kernel_size=(3, 3), activation='relu',kernel_initializer= keras.initializers.glorot_normal(seed=0), padding='same'))\n",
        "model.add(BatchNormalization(axis=-1))\n",
        "\n",
        "model.add(Conv2D(512, kernel_size=(3, 3), activation='relu',kernel_initializer= keras.initializers.glorot_normal(seed=0), padding='same'))\n",
        "model.add(BatchNormalization(axis=-1))\n",
        "\n",
        "model.add(Conv2D(512, kernel_size=(3, 3), activation='relu',kernel_initializer= keras.initializers.glorot_normal(seed=0), padding='same'))\n",
        "model.add(BatchNormalization(axis=-1))\n",
        "\n",
        "model.add(Conv2D(512, kernel_size=(3, 3), activation='relu',kernel_initializer= keras.initializers.glorot_normal(seed=0), padding='same'))\n",
        "model.add(BatchNormalization(axis=-1))\n",
        "model.add(MaxPooling2D(pool_size=(2, 2), strides=2,padding='same'))\n",
        "\n",
        "model.add(Conv2D(512, kernel_size=(3, 3), activation='relu',kernel_initializer= keras.initializers.glorot_normal(seed=0), padding='same'))\n",
        "model.add(BatchNormalization(axis=-1))\n",
        "\n",
        "model.add(Conv2D(512, kernel_size=(3, 3), activation='relu',kernel_initializer= keras.initializers.glorot_normal(seed=0), padding='same'))\n",
        "model.add(BatchNormalization(axis=-1))\n",
        "\n",
        "model.add(Conv2D(512, kernel_size=(3, 3), activation='relu',kernel_initializer= keras.initializers.glorot_normal(seed=0), padding='same'))\n",
        "model.add(BatchNormalization(axis=-1))\n",
        "\n",
        "model.add(MaxPooling2D(pool_size=(2, 2), strides=2,padding='same'))\n",
        "\n",
        "\n",
        "model.add(Flatten())\n",
        "model.add(Dense(1024, activation='relu'))\n",
        "model.add(Dense(256, activation='relu'))\n",
        "model.add(Dense(num_classes, activation='softmax'))\n",
        "\n",
        "keras.utils.plot_model(model, to_file='vggnet16.png')\n",
        "model\n",
        "model.summary()"
      ],
      "execution_count": 13,
      "outputs": [
        {
          "output_type": "stream",
          "text": [
            "Model: \"sequential_2\"\n",
            "_________________________________________________________________\n",
            "Layer (type)                 Output Shape              Param #   \n",
            "=================================================================\n",
            "conv2d_14 (Conv2D)           (None, 28, 28, 64)        640       \n",
            "_________________________________________________________________\n",
            "batch_normalization_14 (Batc (None, 28, 28, 64)        256       \n",
            "_________________________________________________________________\n",
            "conv2d_15 (Conv2D)           (None, 28, 28, 64)        36928     \n",
            "_________________________________________________________________\n",
            "batch_normalization_15 (Batc (None, 28, 28, 64)        256       \n",
            "_________________________________________________________________\n",
            "max_pooling2d_5 (MaxPooling2 (None, 14, 14, 64)        0         \n",
            "_________________________________________________________________\n",
            "conv2d_16 (Conv2D)           (None, 14, 14, 128)       73856     \n",
            "_________________________________________________________________\n",
            "batch_normalization_16 (Batc (None, 14, 14, 128)       512       \n",
            "_________________________________________________________________\n",
            "conv2d_17 (Conv2D)           (None, 14, 14, 128)       147584    \n",
            "_________________________________________________________________\n",
            "batch_normalization_17 (Batc (None, 14, 14, 128)       512       \n",
            "_________________________________________________________________\n",
            "max_pooling2d_6 (MaxPooling2 (None, 7, 7, 128)         0         \n",
            "_________________________________________________________________\n",
            "conv2d_18 (Conv2D)           (None, 7, 7, 256)         295168    \n",
            "_________________________________________________________________\n",
            "batch_normalization_18 (Batc (None, 7, 7, 256)         1024      \n",
            "_________________________________________________________________\n",
            "conv2d_19 (Conv2D)           (None, 7, 7, 256)         590080    \n",
            "_________________________________________________________________\n",
            "batch_normalization_19 (Batc (None, 7, 7, 256)         1024      \n",
            "_________________________________________________________________\n",
            "conv2d_20 (Conv2D)           (None, 7, 7, 256)         590080    \n",
            "_________________________________________________________________\n",
            "batch_normalization_20 (Batc (None, 7, 7, 256)         1024      \n",
            "_________________________________________________________________\n",
            "conv2d_21 (Conv2D)           (None, 7, 7, 512)         1180160   \n",
            "_________________________________________________________________\n",
            "batch_normalization_21 (Batc (None, 7, 7, 512)         2048      \n",
            "_________________________________________________________________\n",
            "conv2d_22 (Conv2D)           (None, 7, 7, 512)         2359808   \n",
            "_________________________________________________________________\n",
            "batch_normalization_22 (Batc (None, 7, 7, 512)         2048      \n",
            "_________________________________________________________________\n",
            "conv2d_23 (Conv2D)           (None, 7, 7, 512)         2359808   \n",
            "_________________________________________________________________\n",
            "batch_normalization_23 (Batc (None, 7, 7, 512)         2048      \n",
            "_________________________________________________________________\n",
            "max_pooling2d_7 (MaxPooling2 (None, 4, 4, 512)         0         \n",
            "_________________________________________________________________\n",
            "conv2d_24 (Conv2D)           (None, 4, 4, 512)         2359808   \n",
            "_________________________________________________________________\n",
            "batch_normalization_24 (Batc (None, 4, 4, 512)         2048      \n",
            "_________________________________________________________________\n",
            "conv2d_25 (Conv2D)           (None, 4, 4, 512)         2359808   \n",
            "_________________________________________________________________\n",
            "batch_normalization_25 (Batc (None, 4, 4, 512)         2048      \n",
            "_________________________________________________________________\n",
            "conv2d_26 (Conv2D)           (None, 4, 4, 512)         2359808   \n",
            "_________________________________________________________________\n",
            "batch_normalization_26 (Batc (None, 4, 4, 512)         2048      \n",
            "_________________________________________________________________\n",
            "max_pooling2d_8 (MaxPooling2 (None, 2, 2, 512)         0         \n",
            "_________________________________________________________________\n",
            "flatten_2 (Flatten)          (None, 2048)              0         \n",
            "_________________________________________________________________\n",
            "dense_4 (Dense)              (None, 1024)              2098176   \n",
            "_________________________________________________________________\n",
            "dense_5 (Dense)              (None, 256)               262400    \n",
            "_________________________________________________________________\n",
            "dense_6 (Dense)              (None, 10)                2570      \n",
            "=================================================================\n",
            "Total params: 17,093,578\n",
            "Trainable params: 17,085,130\n",
            "Non-trainable params: 8,448\n",
            "_________________________________________________________________\n"
          ],
          "name": "stdout"
        }
      ]
    },
    {
      "cell_type": "code",
      "metadata": {
        "id": "Bj3SQtKPADmq",
        "colab_type": "code",
        "colab": {
          "base_uri": "https://localhost:8080/",
          "height": 1000
        },
        "outputId": "b298fa30-56ba-45cb-8d3d-930f7dbb9dc0"
      },
      "source": [
        "# from keras.optimizers import Adam\n",
        "# opt = Adam(lr=0.001)\n",
        "# model.compile(optimizer=opt, loss=keras.losses.categorical_crossentropy, metrics=['accuracy'])\n",
        "\n",
        "model.compile(loss=keras.losses.categorical_crossentropy, optimizer=keras.optimizers.Adadelta(), metrics=['accuracy'])\n",
        "\n",
        "output = model.fit(x_train, y_train, batch_size=batch_size, epochs=epochs, verbose=1, validation_split=.1)\n",
        "score = model.evaluate(x_test, y_test, verbose=0)\n",
        "print('The test loss:', score[0])\n",
        "print('The test accuracy:', score[1])\n",
        "loss= output.history['loss']\n",
        "valloss= output.history['val_loss']\n",
        "acc= output.history['accuracy']\n",
        "valacc= output.history['val_accuracy']\n",
        "\n",
        "plt.plot(np.linspace(1,epochs,epochs),loss,label=\"loss\")\n",
        "plt.plot(np.linspace(1,epochs,epochs),valloss,label=\"val_loss\")\n",
        "plt.xlabel(\"epoch\")\n",
        "plt.ylabel(\"loss\")\n",
        "plt.legend()\n",
        "plt.show()\n",
        "\n",
        "plt.plot(np.linspace(1,epochs,epochs),acc,label=\"accuracy\")\n",
        "plt.plot(np.linspace(1,epochs,epochs),valacc,label=\"val_accuracy\")\n",
        "\n",
        "plt.xlabel(\"epoch\")\n",
        "plt.ylabel(\"accuracy\")\n",
        "plt.legend()\n",
        "plt.show()\n",
        "\n"
      ],
      "execution_count": 14,
      "outputs": [
        {
          "output_type": "stream",
          "text": [
            "Train on 54000 samples, validate on 6000 samples\n",
            "Epoch 1/20\n",
            "54000/54000 [==============================] - 36s 658us/step - loss: 0.4209 - accuracy: 0.8986 - val_loss: 1.5355 - val_accuracy: 0.6923\n",
            "Epoch 2/20\n",
            "54000/54000 [==============================] - 33s 605us/step - loss: 0.0557 - accuracy: 0.9847 - val_loss: 0.0393 - val_accuracy: 0.9888\n",
            "Epoch 3/20\n",
            "54000/54000 [==============================] - 33s 604us/step - loss: 0.0336 - accuracy: 0.9901 - val_loss: 0.0318 - val_accuracy: 0.9918\n",
            "Epoch 4/20\n",
            "54000/54000 [==============================] - 33s 605us/step - loss: 0.0228 - accuracy: 0.9930 - val_loss: 0.0267 - val_accuracy: 0.9937\n",
            "Epoch 5/20\n",
            "54000/54000 [==============================] - 33s 603us/step - loss: 0.0175 - accuracy: 0.9947 - val_loss: 0.0275 - val_accuracy: 0.9930\n",
            "Epoch 6/20\n",
            "54000/54000 [==============================] - 33s 603us/step - loss: 0.0137 - accuracy: 0.9963 - val_loss: 0.0302 - val_accuracy: 0.9932\n",
            "Epoch 7/20\n",
            "54000/54000 [==============================] - 33s 603us/step - loss: 0.0129 - accuracy: 0.9962 - val_loss: 0.0386 - val_accuracy: 0.9923\n",
            "Epoch 8/20\n",
            "54000/54000 [==============================] - 33s 603us/step - loss: 0.0114 - accuracy: 0.9965 - val_loss: 0.0337 - val_accuracy: 0.9935\n",
            "Epoch 9/20\n",
            "54000/54000 [==============================] - 33s 603us/step - loss: 0.0076 - accuracy: 0.9977 - val_loss: 0.0323 - val_accuracy: 0.9933\n",
            "Epoch 10/20\n",
            "54000/54000 [==============================] - 33s 604us/step - loss: 0.0063 - accuracy: 0.9980 - val_loss: 0.0399 - val_accuracy: 0.9928\n",
            "Epoch 11/20\n",
            "54000/54000 [==============================] - 33s 604us/step - loss: 0.0074 - accuracy: 0.9978 - val_loss: 0.0348 - val_accuracy: 0.9928\n",
            "Epoch 12/20\n",
            "54000/54000 [==============================] - 33s 603us/step - loss: 0.0069 - accuracy: 0.9979 - val_loss: 0.0218 - val_accuracy: 0.9947\n",
            "Epoch 13/20\n",
            "54000/54000 [==============================] - 33s 604us/step - loss: 0.0041 - accuracy: 0.9988 - val_loss: 0.0399 - val_accuracy: 0.9910\n",
            "Epoch 14/20\n",
            "54000/54000 [==============================] - 33s 604us/step - loss: 0.0025 - accuracy: 0.9992 - val_loss: 0.0337 - val_accuracy: 0.9945\n",
            "Epoch 15/20\n",
            "54000/54000 [==============================] - 33s 602us/step - loss: 0.0047 - accuracy: 0.9987 - val_loss: 0.0317 - val_accuracy: 0.9940\n",
            "Epoch 16/20\n",
            "54000/54000 [==============================] - 32s 602us/step - loss: 0.0024 - accuracy: 0.9993 - val_loss: 0.0352 - val_accuracy: 0.9940\n",
            "Epoch 17/20\n",
            "54000/54000 [==============================] - 33s 605us/step - loss: 0.0035 - accuracy: 0.9990 - val_loss: 0.0335 - val_accuracy: 0.9933\n",
            "Epoch 18/20\n",
            "54000/54000 [==============================] - 33s 608us/step - loss: 0.0024 - accuracy: 0.9993 - val_loss: 0.0331 - val_accuracy: 0.9943\n",
            "Epoch 19/20\n",
            "54000/54000 [==============================] - 33s 609us/step - loss: 0.0026 - accuracy: 0.9994 - val_loss: 0.0296 - val_accuracy: 0.9950\n",
            "Epoch 20/20\n",
            "54000/54000 [==============================] - 33s 604us/step - loss: 0.0017 - accuracy: 0.9994 - val_loss: 0.0324 - val_accuracy: 0.9953\n",
            "The test loss: 0.03590568373736891\n",
            "The test accuracy: 0.9948999881744385\n"
          ],
          "name": "stdout"
        },
        {
          "output_type": "display_data",
          "data": {
            "image/png": "[encoded data removed]",
            "text/plain": [
              "<Figure size 432x288 with 1 Axes>"
            ]
          },
          "metadata": {
            "tags": [],
            "needs_background": "light"
          }
        },
        {
          "output_type": "display_data",
          "data": {
            "image/png": "[encoded data removed]",
            "text/plain": [
              "<Figure size 432x288 with 1 Axes>"
            ]
          },
          "metadata": {
            "tags": [],
            "needs_background": "light"
          }
        }
      ]
    }
  ]
}